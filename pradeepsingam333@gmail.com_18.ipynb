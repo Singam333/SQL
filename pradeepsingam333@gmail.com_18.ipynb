{
 "cells": [
  {
   "cell_type": "code",
   "execution_count": 248,
   "metadata": {},
   "outputs": [],
   "source": [
    "import pandas as pd\n",
    "import sqlite3"
   ]
  },
  {
   "cell_type": "code",
   "execution_count": 2,
   "metadata": {},
   "outputs": [
    {
     "name": "stdout",
     "output_type": "stream",
     "text": [
      "[('Movie',), ('Genre',), ('Language',), ('Country',), ('Location',), ('M_Location',), ('M_Country',), ('M_Language',), ('M_Genre',), ('Person',), ('M_Producer',), ('M_Director',), ('M_Cast',)]\n"
     ]
    }
   ],
   "source": [
    "conn = sqlite3.connect(\"Db-IMDB-Assignment.db\")\n",
    "cursor = conn.cursor()\n",
    "cursor.execute(\"SELECT name FROM sqlite_master WHERE type='table';\")\n",
    "print(cursor.fetchall())"
   ]
  },
  {
   "cell_type": "markdown",
   "metadata": {},
   "source": [
    "# 1"
   ]
  },
  {
   "cell_type": "code",
   "execution_count": 52,
   "metadata": {},
   "outputs": [
    {
     "name": "stdout",
     "output_type": "stream",
     "text": [
      "                       Name                              title     year\n",
      "0              Milap Zaveri                         Mastizaade     2016\n",
      "1              Danny Leiner  Harold & Kumar Go to White Castle     2004\n",
      "2            Anurag Kashyap                 Gangs of Wasseypur     2012\n",
      "3              Frank Coraci        Around the World in 80 Days     2004\n",
      "4             Griffin Dunne             The Accidental Husband     2008\n",
      "5               Anurag Basu                             Barfi!     2012\n",
      "6           Gurinder Chadha                  Bride & Prejudice     2004\n",
      "7                Mike Judge    Beavis and Butt-Head Do America     1996\n",
      "8               Abhinay Deo                          Blackmail   I 2018\n",
      "9          Tarun Mansukhani                            Dostana     2008\n",
      "10             Shakun Batra                      Kapoor & Sons     2016\n",
      "11            Aditya Chopra                Rab Ne Bana Di Jodi     2008\n",
      "12             Rohit Dhawan                            Dishoom     2016\n",
      "13              Nitya Mehra                    Baar Baar Dekho     2016\n",
      "14         Dibakar Banerjee              Oye Lucky! Lucky Oye!     2008\n",
      "15             Umesh Shukla                    OMG: Oh My God!     2012\n",
      "16            Aditya Chopra                            Befikre     2016\n",
      "17               Farah Khan                     Happy New Year   I 2014\n",
      "18              Karan Johar                Student of the Year     2012\n",
      "19               Farah Khan                       Main Hoon Na     2004\n",
      "20           Shoojit Sircar                        Vicky Donor     2012\n",
      "21          Siddharth Anand                          Bang Bang   I 2014\n",
      "22           Abbas Tyrewala            Jaane Tu... Ya Jaane Na     2008\n",
      "23             Priyadarshan                         Hera Pheri     2000\n",
      "24     Shubhashish Bhutiani                    Hotel Salvation     2016\n",
      "25             James Dodson          The Other End of the Line     2008\n",
      "26            Homi Adajania                           Cocktail     2012\n",
      "27            Joy Augustine                    Tere Mere Sapne     1996\n",
      "28            Mudassar Aziz                  Happy Bhag Jayegi     2016\n",
      "29             Gauri Shinde                   English Vinglish     2012\n",
      "..                      ...                                ...      ...\n",
      "216            Anand Balraj           Daal Mein Kuch Kaala Hai     2012\n",
      "217            Govind Menon                  Kis Kis Ki Kismat     2004\n",
      "218             Mohan Segal                          New Delhi     1956\n",
      "219         Pankaj Parashar                     Ab Ayega Mazaa     1984\n",
      "220          Tarun Majumdar                        Dadar Kirti     1980\n",
      "221              Salim Raza                       Bach ke Zara     2008\n",
      "222            Jabbar Patel                   Ek Hota Vidushak     1992\n",
      "223            Sanjay Chhel           Maan Gaye Mughall-E-Azam     2008\n",
      "224    Sachin Kamlakar Khot                     Ugly Aur Pagli     2008\n",
      "225            David Dhawan                      Bol Radha Bol     1992\n",
      "226               Kalpataru                Ghar Ghar Ki Kahani     1988\n",
      "227             Vimal Kumar                      Suno Sasurjee     2004\n",
      "228       Srinivas Bhashyam                       Paisa Vasool     2004\n",
      "229        Ganapathy Bharat                            Hari Om     2004\n",
      "230                Debu Sen                      Do Dooni Char     1968\n",
      "231             Raj Kaushal                   Shaadi Ka Laddoo     2004\n",
      "232          Kabir Sadanand          Popcorn Khao! Mast Ho Jao     2004\n",
      "233                 Mehmood                    Ginny Aur Johny     1976\n",
      "234     Parvati Balagopalan                           Straight  II 2009\n",
      "235         Basu Chatterjee                     Lakhon Ki Baat     1984\n",
      "236             Shankaraiya                          Khokababu     2012\n",
      "237    Chandrakant Kulkarni                   Meerabai Not Out     2008\n",
      "238             Yograj Bhat                      Ranga S.S.L.C     2004\n",
      "239            Deepak Anand                Yaad Rakhegi Duniya     1992\n",
      "240            Vijaya Mehta                          Pestonjee     1988\n",
      "241   Siddharth Anand Kumar                        Let's Enjoy     2004\n",
      "242         Amma Rajasekhar                            Sathyam     2008\n",
      "243           Oliver Paulus                      Tandoori Love     2008\n",
      "244             Raja Chanda                        Le Halua Le     2012\n",
      "245        K.S. Prakash Rao                  Raja Aur Rangeeli     1996\n",
      "\n",
      "[246 rows x 3 columns]\n",
      "Wall time: 116 ms\n"
     ]
    }
   ],
   "source": [
    "%%time\n",
    "# Write your sql query below\n",
    "\n",
    "query = \"\"\" SELECT P.Name,M.title, M.year \n",
    "FROM Person P, Movie M, M_Director D,Genre G, M_Genre MG \n",
    "WHERE MG.GID = G.GID AND M.MID = MG.MID AND G.Name LIKE ('%Comedy%') AND D.MID = MG.MID AND D.PID=P.PID AND M.year % 4 = 0\"\"\"\n",
    "q = pd.read_sql_query(query, conn)    \n",
    "print(q)\n"
   ]
  },
  {
   "cell_type": "markdown",
   "metadata": {},
   "source": [
    "# 2"
   ]
  },
  {
   "cell_type": "code",
   "execution_count": 38,
   "metadata": {},
   "outputs": [
    {
     "name": "stdout",
     "output_type": "stream",
     "text": [
      "                 Name\n",
      "0    Amitabh Bachchan\n",
      "1       Rajesh Khanna\n",
      "2       Sumita Sanyal\n",
      "3          Ramesh Deo\n",
      "4           Seema Deo\n",
      "5      Asit Kumar Sen\n",
      "6          Dev Kishan\n",
      "7        Atam Prakash\n",
      "8       Lalita Kumari\n",
      "9              Savita\n",
      "10     Brahm Bhardwaj\n",
      "11       Gurnam Singh\n",
      "12       Lalita Pawar\n",
      "13        Durga Khote\n",
      "14         Dara Singh\n",
      "15      Johnny Walker\n",
      "16          Moolchand\n",
      "Wall time: 52 ms\n"
     ]
    }
   ],
   "source": [
    "%%time\n",
    "# Write your sql query below\n",
    "\n",
    "query = \"\"\"select Name from Person where PID IN(select TRIM(PID) from M_Cast where MID IN (select MID from Movie where title='Anand' and year=1971))\"\"\"\n",
    "q = pd.read_sql_query(query, conn)    \n",
    "print(q)\n"
   ]
  },
  {
   "cell_type": "markdown",
   "metadata": {},
   "source": [
    "# 3"
   ]
  },
  {
   "cell_type": "code",
   "execution_count": 42,
   "metadata": {},
   "outputs": [
    {
     "name": "stdout",
     "output_type": "stream",
     "text": [
      "                    Name\n",
      "0           Rishi Kapoor\n",
      "1       Amitabh Bachchan\n",
      "2                 Asrani\n",
      "3           Zohra Sehgal\n",
      "4        Parikshat Sahni\n",
      "5          Rakesh Sharma\n",
      "6            Sanjay Dutt\n",
      "7              Ric Young\n",
      "8                  Yusuf\n",
      "9         Suhasini Mulay\n",
      "10           A.K. Hangal\n",
      "11          Jeremy Child\n",
      "12          Farida Jalal\n",
      "13        Waheeda Rehman\n",
      "14         Rajesh Khanna\n",
      "15            Ramesh Deo\n",
      "16             Seema Deo\n",
      "17        Asit Kumar Sen\n",
      "18         Lalita Kumari\n",
      "19        Brahm Bhardwaj\n",
      "20          Lalita Pawar\n",
      "21            Dara Singh\n",
      "22         Johnny Walker\n",
      "23             Moolchand\n",
      "24            Saira Banu\n",
      "25           Prem Chopra\n",
      "26           Dina Pathak\n",
      "27        Achala Sachdev\n",
      "28            Shashikala\n",
      "29    Mohandas K. Gandhi\n",
      "..                   ...\n",
      "303       Gemini Ganesan\n",
      "304                 Aziz\n",
      "305          Mohamad Ali\n",
      "306          Master Amar\n",
      "307                Gopal\n",
      "308               Manish\n",
      "309             Surendra\n",
      "310            Raj Joshi\n",
      "311               Nikita\n",
      "312              Jaswant\n",
      "313               Merlyn\n",
      "314      Vikram Makandar\n",
      "315      Lata Mangeshkar\n",
      "316                Munni\n",
      "317              Gummadi\n",
      "318    Allu Ramalingaiah\n",
      "319               Kaveri\n",
      "320         Bharati Devi\n",
      "321                Kumar\n",
      "322                  Uma\n",
      "323               Ismail\n",
      "324          Miss Firoza\n",
      "325                 Dube\n",
      "326                Dolly\n",
      "327              Shekhar\n",
      "328               Poonam\n",
      "329        Jamila Massey\n",
      "330          K.R. Vijaya\n",
      "331                Sethi\n",
      "332         Suryakantham\n",
      "\n",
      "[333 rows x 1 columns]\n",
      "Wall time: 263 ms\n"
     ]
    }
   ],
   "source": [
    "%%time\n",
    "query = \"\"\"select Name from Person where (PID IN(select trim(PID) as ID from M_Cast where MID IN(select Distinct(MID) from Movie where year<1970)) AND PID IN (select trim(PID) as ID from M_Cast where MID IN(select Distinct(MID) from Movie where year>1990)))\"\"\"\n",
    "q = pd.read_sql_query(query, conn)    \n",
    "print(q)"
   ]
  },
  {
   "cell_type": "markdown",
   "metadata": {},
   "source": [
    "# 4"
   ]
  },
  {
   "cell_type": "code",
   "execution_count": 28,
   "metadata": {},
   "outputs": [
    {
     "name": "stdout",
     "output_type": "stream",
     "text": [
      "                         Name  COUNT(MID)\n",
      "0                David Dhawan          39\n",
      "1                Mahesh Bhatt          35\n",
      "2                Priyadarshan          30\n",
      "3             Ram Gopal Varma          30\n",
      "4                Vikram Bhatt          29\n",
      "5        Hrishikesh Mukherjee          27\n",
      "6                 Yash Chopra          21\n",
      "7             Basu Chatterjee          19\n",
      "8              Shakti Samanta          19\n",
      "9                Subhash Ghai          18\n",
      "10              Shyam Benegal          17\n",
      "11   Abbas Alibhai Burmawalla          17\n",
      "12          Rama Rao Tatineni          17\n",
      "13             Manmohan Desai          16\n",
      "14                     Gulzar          16\n",
      "15               Raj N. Sippy          16\n",
      "16                 Raj Kanwar          15\n",
      "17           Mahesh Manjrekar          15\n",
      "18                Indra Kumar          14\n",
      "19                 Raj Khosla          14\n",
      "20               Rahul Rawail          14\n",
      "21          Rajkumar Santoshi          14\n",
      "22              Rakesh Roshan          13\n",
      "23                  Dev Anand          13\n",
      "24                Vijay Anand          13\n",
      "25               Harry Baweja          13\n",
      "26             Anurag Kashyap          13\n",
      "27   Ananth Narayan Mahadevan          13\n",
      "28         K. Raghavendra Rao          13\n",
      "29               Anees Bazmee          12\n",
      "30               Guddu Dhanoa          12\n",
      "31                Prakash Jha          12\n",
      "32             Satish Kaushik          12\n",
      "33            Nagesh Kukunoor          12\n",
      "34              Prakash Mehra          12\n",
      "35                Umesh Mehra          12\n",
      "36                Anil Sharma          12\n",
      "37          Madhur Bhandarkar          12\n",
      "38               Rohit Shetty          12\n",
      "39         Pramod Chakravorty          11\n",
      "40               Sanjay Gupta          11\n",
      "41              Nasir Hussain          11\n",
      "42                Ketan Mehta          11\n",
      "43            Govind Nihalani          11\n",
      "44                 Mohit Suri          11\n",
      "45                 Raj Kapoor          10\n",
      "46                 K. Bapaiah          10\n",
      "47            Vishal Bhardwaj          10\n",
      "48                 N. Chandra          10\n",
      "49           Tigmanshu Dhulia          10\n",
      "50                 J.P. Dutta          10\n",
      "51                Mehul Kumar          10\n",
      "52               Hansal Mehta          10\n",
      "53              Sudhir Mishra          10\n",
      "54        K. Muralimohana Rao          10\n",
      "55            Pankaj Parashar          10\n",
      "56              J. Om Prakash          10\n",
      "57                  Bimal Roy          10\n",
      "Wall time: 52 ms\n"
     ]
    }
   ],
   "source": [
    "%%time\n",
    "# Write your sql query below\n",
    "\n",
    "query = \"\"\" SELECT Name, COUNT(MID)\n",
    "FROM Person P, M_Director D\n",
    "WHERE P.PID = D.PID\n",
    "GROUP BY D.PID\n",
    "HAVING COUNT(MID) >= 10\n",
    "ORDER BY COUNT(MID) DESC\"\"\"\n",
    "q = pd.read_sql_query(query, conn)    \n",
    "print(q)\n"
   ]
  },
  {
   "cell_type": "markdown",
   "metadata": {},
   "source": [
    "# 5"
   ]
  },
  {
   "cell_type": "code",
   "execution_count": 55,
   "metadata": {},
   "outputs": [
    {
     "name": "stdout",
     "output_type": "stream",
     "text": [
      "   year  movie_count\n",
      "0  1939            1\n",
      "1  1999            1\n",
      "2  2000            1\n",
      "3  2018            1\n",
      "Wall time: 247 ms\n"
     ]
    }
   ],
   "source": [
    "%%time\n",
    "# Write your sql query below\n",
    "query=\"\"\" select distinct(cast(SUBSTR(m.year,-4,4) as int)) as year, count(*) as movie_count from Movie m JOIN\n",
    "                            (select distinct MID from M_Cast  \n",
    "                                    where MID NOT IN \n",
    "                                    (select c.MID from M_Cast c where trim(c.PID) in (\n",
    "                                        select trim(p.PID) from Person p where p.gender =\"Male\" or p.gender is null\n",
    "                                        )or c.PID is null))a on a.MID = m.MID group by m.year\"\"\"\n",
    "q = pd.read_sql_query(query, conn)\n",
    "print(q)"
   ]
  },
  {
   "cell_type": "markdown",
   "metadata": {},
   "source": [
    "# 5_2"
   ]
  },
  {
   "cell_type": "code",
   "execution_count": 54,
   "metadata": {},
   "outputs": [
    {
     "name": "stdout",
     "output_type": "stream",
     "text": [
      "   year percentage  movies\n",
      "0  1939         50       2\n",
      "1  1999          1      66\n",
      "2  2000          1      64\n",
      "3  2018          1      93\n",
      "Wall time: 249 ms\n"
     ]
    }
   ],
   "source": [
    "%%time\n",
    "# Write your sql query below\n",
    "q = pd.read_sql_query(\n",
    "                            '''\n",
    "                            select distinct(cast(SUBSTR(m.year,-4,4) as int)) as year,   \n",
    "                            cast((i_vw.female_movie_count*100/(count(m.mid))) as varchar) as percentage,count(m.mid) as movies\n",
    "                            from Movie m \n",
    "                            INNER JOIN\n",
    "                            (\n",
    "                                select distinct(cast(SUBSTR(m.year,-4,4) as int)) as year, count(*) as female_movie_count from Movie m JOIN\n",
    "                            (select distinct MID from M_Cast  \n",
    "                                    where MID NOT IN \n",
    "                                    (select c.MID from M_Cast c where trim(c.PID) in (\n",
    "                                        select trim(p.PID) from Person p where p.gender =\"Male\" or p.gender is null\n",
    "                                        )or c.PID is null))a on a.MID = m.MID group by m.year\n",
    "                            )i_vw on m.year = i_vw.year\n",
    "                            group by m.year\n",
    "                            ''', conn)\n",
    "print(q)"
   ]
  },
  {
   "cell_type": "markdown",
   "metadata": {},
   "source": [
    "# 6"
   ]
  },
  {
   "cell_type": "code",
   "execution_count": 69,
   "metadata": {},
   "outputs": [
    {
     "name": "stdout",
     "output_type": "stream",
     "text": [
      "           title  max(cast_count)\n",
      "0  Ocean's Eight              238\n",
      "Wall time: 94.6 ms\n"
     ]
    }
   ],
   "source": [
    "%%time\n",
    "# Write your sql query below\n",
    "q=pd.read_sql_query(\"\"\"select  m.title, max(cast_count)\n",
    "                            from\n",
    "                            (\n",
    "                                select count(*) as cast_count, mid \n",
    "                                from M_Cast  group by mid \n",
    "                            )c\n",
    "                            join Movie m on m.mid = c.mid \"\"\"\n",
    "            ,conn)\n",
    "print(q)"
   ]
  },
  {
   "cell_type": "markdown",
   "metadata": {},
   "source": [
    "# 7"
   ]
  },
  {
   "cell_type": "code",
   "execution_count": 22,
   "metadata": {},
   "outputs": [
    {
     "name": "stdout",
     "output_type": "stream",
     "text": [
      "   Decade st_year  max(movie_counts)\n",
      "0       8    2008               1012\n",
      "Wall time: 82.7 ms\n"
     ]
    }
   ],
   "source": [
    "%%time\n",
    "# Write your sql query below\n",
    "q = pd.read_sql_query('''\n",
    "                                select Decade,st_year, max(movie_counts)\n",
    "                                from \n",
    "                                (\n",
    "                                    select Decade, year as st_year,count(*) as movie_counts\n",
    "                                    from\n",
    "                                    (\n",
    "                                        select m.year, a.min_year as year, (((m.year-a.min_year)/10)+1) as Decade from Movie m \n",
    "                                        join \n",
    "                                        (\n",
    "                                            select min(year) as min_year from Movie\n",
    "                                        )a \n",
    "                                    )b \n",
    "                                    group by Decade\n",
    "                                )c \n",
    "                            ''', conn)\n",
    "print(q)"
   ]
  },
  {
   "cell_type": "markdown",
   "metadata": {},
   "source": [
    "# 8"
   ]
  },
  {
   "cell_type": "code",
   "execution_count": 162,
   "metadata": {},
   "outputs": [
    {
     "name": "stdout",
     "output_type": "stream",
     "text": [
      "    Actor_Id   Actor_Name Director_Name  Yash_Chopra_Directed_Movies\n",
      "0  nm0007181  Yash Chopra   Yash Chopra                            2\n",
      "1  nm1767604  Ashok Verma   Yash Chopra                            2\n",
      "2  nm3163800        Nazir   Yash Chopra                            2\n",
      "Wall time: 1.81 s\n"
     ]
    }
   ],
   "source": [
    "%%time\n",
    "# Write your sql query below\n",
    "q=pd.read_sql_query('''\n",
    "                                select y.*\n",
    "                                from\n",
    "                                (\n",
    "                                     \n",
    "                                    select distinct trim(p.pid) as Actor_Id,trim(p.name),   \n",
    "                                    count(distinct m.mid) as Non_Yash_Chopra_Directed_Movies\n",
    "                                    from Person p \n",
    "                                    join M_Cast mc on trim(mc.pid) = p.pid \n",
    "                                    join Movie m on m.mid = mc.mid \n",
    "                                    join M_Director md on md.mid = m.mid \n",
    "                                    join Person p1 on p1.pid = trim(md.pid)\n",
    "                                    where trim(p1.name) != \\'Yash Chopra\\'\n",
    "                                    group by trim(p.pid)\n",
    "                                )x\n",
    "                                left join\n",
    "                                (\n",
    "                                    select distinct trim(p.pid) as Actor_Id, \n",
    "                                    trim(p.name) as Actor_Name,  \n",
    "                                    trim(p1.name) as Director_Name, \n",
    "                                    count(distinct m.mid) as Yash_Chopra_Directed_Movies \n",
    "                                    from Person p \n",
    "                                    join M_Cast mc on trim(mc.pid) = p.pid \n",
    "                                    join Movie m on m.mid = mc.mid \n",
    "                                    join M_Director md on md.mid = m.mid \n",
    "                                    join Person p1 on p1.pid = trim(md.pid)\n",
    "                                    where trim(p1.name) = \\'Yash Chopra\\'\n",
    "                                    group by trim(p.pid)\n",
    "                                )y on x.Actor_Id = y.Actor_Id\n",
    "                                where y.Yash_Chopra_Directed_Movies > x.Non_Yash_Chopra_Directed_Movies\n",
    "                                \n",
    "                                \n",
    "                            ''', conn) \n",
    "print(q)"
   ]
  },
  {
   "cell_type": "markdown",
   "metadata": {},
   "source": [
    "# 9"
   ]
  },
  {
   "cell_type": "code",
   "execution_count": 5,
   "metadata": {},
   "outputs": [
    {
     "name": "stdout",
     "output_type": "stream",
     "text": [
      "                           Name\n",
      "0                  Freida Pinto\n",
      "1                   Rohan Chand\n",
      "2                  Damian Young\n",
      "3               Waris Ahluwalia\n",
      "4         Caroline Christl Long\n",
      "5                 Rajeev Pahuja\n",
      "6             Michelle Santiago\n",
      "7               Alicia Vikander\n",
      "8                  Dominic West\n",
      "9                Walton Goggins\n",
      "10                    Daniel Wu\n",
      "11         Kristin Scott Thomas\n",
      "12                 Derek Jacobi\n",
      "13           Alexandre Willaume\n",
      "14                 Tamer Burjaq\n",
      "15               Adrian Collins\n",
      "16               Keenan Arrison\n",
      "17               Andrian Mazive\n",
      "18                Milton Schorr\n",
      "19            Hannah John-Kamen\n",
      "20                 Peter Waison\n",
      "21                   Samuel Mak\n",
      "22                     Sky Yang\n",
      "23                  Civic Chung\n",
      "24                  Josef Altin\n",
      "25          Billy Postlethwaite\n",
      "26       Roger Jean Nsengiyumva\n",
      "27               Jaime Winstone\n",
      "28               Michael Obiora\n",
      "29                Shekhar Varma\n",
      "...                         ...\n",
      "25668                    Premji\n",
      "25669                      Kamu\n",
      "25670                     Monal\n",
      "25671           Kanchan Mullick\n",
      "25672             Sumit Ganguly\n",
      "25673         Aindrila Banerjee\n",
      "25674        Aritro Dutta Banik\n",
      "25675         Soham Chakraborty\n",
      "25676          Hiran Chatterjee\n",
      "25677             Mallika Ghosh\n",
      "25678           Subrata Guharoy\n",
      "25679             Raju Majumdar\n",
      "25680          Sudipta Majumdar\n",
      "25681   Vishwesh Krishnamoorthy\n",
      "25682            Sabitha Perara\n",
      "25683             R. Sundarajan\n",
      "25684              Ushma Rathod\n",
      "25685                    Shilpi\n",
      "25686               Zubeda Khan\n",
      "25687                  N. Sagar\n",
      "25688              Habib Tanvar\n",
      "25689          Mohd. Zahiruddin\n",
      "25690             Muktha George\n",
      "25691                   Anjuman\n",
      "25692              Dhruv Shetty\n",
      "25693              Minoo Mehtab\n",
      "25694           Hayley Cleghorn\n",
      "25695           Nirvasha Jithoo\n",
      "25696            Kamal Maharshi\n",
      "25697              Mohini Manik\n",
      "\n",
      "[25698 rows x 1 columns]\n",
      "Wall time: 557 ms\n"
     ]
    }
   ],
   "source": [
    "%%time\n",
    "# Write your sql query below\n",
    "q=pd.read_sql_query(\"\"\"select Name from Person where ((PID) \n",
    "In(SELECT trim(distinct(mc.PID)) from M_Cast mc where (mc.MID)  \n",
    "IN(select Distinct(mc.MID) from M_cast mc where (mc.PID) \n",
    "IN(select Distinct(mc.PID) from M_cast mc where (mc.MID) \n",
    "IN(select Distinct(mc.MID) from M_Cast mc where trim(mc.PID) \n",
    "IN(select distinct(trim(p.PID)) from Person p where p.Name LIKE '%Shah%Rukh%Khan%')))) and (PID) not IN\n",
    "(select Distinct(mc.PID) from M_cast mc where (mc.MID) \n",
    "IN(select Distinct(mc.MID) from M_Cast mc where trim(mc.PID) \n",
    "IN(select distinct(trim(p.PID)) from Person p where p.Name LIKE '%Shah%Rukh%Khan%'))))) \"\"\",conn)\n",
    "print(q)"
   ]
  }
 ],
 "metadata": {
  "kernelspec": {
   "display_name": "Python 3",
   "language": "python",
   "name": "python3"
  },
  "language_info": {
   "codemirror_mode": {
    "name": "ipython",
    "version": 3
   },
   "file_extension": ".py",
   "mimetype": "text/x-python",
   "name": "python",
   "nbconvert_exporter": "python",
   "pygments_lexer": "ipython3",
   "version": "3.7.3"
  }
 },
 "nbformat": 4,
 "nbformat_minor": 2
}
